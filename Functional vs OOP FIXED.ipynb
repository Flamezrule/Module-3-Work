{
 "cells": [
  {
   "cell_type": "code",
   "execution_count": null,
   "id": "22aec722-b12d-46f5-ac6e-3eb33568c8bc",
   "metadata": {},
   "outputs": [],
   "source": [
    "#Array Sorting\n",
    "\n",
    "class Solution:\n",
    "    # Function to sort an array of 0s, 1s, and 2s\n",
    "    def sort012(self, arr):\n",
    "        low = 0 #0 Tracker\n",
    "        mid = 0 #1 Tracker\n",
    "        high = len(arr) - 1 #2 Tracker\n",
    "       \n",
    "        while mid<=high:\n",
    "            if arr[mid] == 0:\n",
    "                arr[low],arr[mid] = arr[mid],arr[low]\n",
    "                low += 1\n",
    "                mid += 1\n",
    "            elif arr[mid] == 1:\n",
    "                mid += 1\n",
    "            else: \n",
    "                arr[high], arr[mid] = arr[mid], arr[high]\n",
    "                high -= 1\n",
    "        return arr\n",
    "\n",
    "#Binary Search\n",
    "\n",
    "class Solution:\n",
    "    def binarysearch(self, arr, k):\n",
    "        if k in arr:\n",
    "            n=arr.index(k)\n",
    "            return n\n",
    "        else:\n",
    "            return -1\n"
   ]
  }
 ],
 "metadata": {
  "kernelspec": {
   "display_name": "Python 3 (ipykernel)",
   "language": "python",
   "name": "python3"
  },
  "language_info": {
   "codemirror_mode": {
    "name": "ipython",
    "version": 3
   },
   "file_extension": ".py",
   "mimetype": "text/x-python",
   "name": "python",
   "nbconvert_exporter": "python",
   "pygments_lexer": "ipython3",
   "version": "3.12.7"
  }
 },
 "nbformat": 4,
 "nbformat_minor": 5
}
