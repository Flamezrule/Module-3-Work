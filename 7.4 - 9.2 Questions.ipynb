{
 "cells": [
  {
   "cell_type": "code",
   "execution_count": 17,
   "id": "e38ca270-23ef-4089-a840-6141274d08c4",
   "metadata": {},
   "outputs": [
    {
     "name": "stdout",
     "output_type": "stream",
     "text": [
      "['mozzarella', 'Cinderella', 'salmonella']\n",
      "['MOZZARELLA', 'Cinderella', 'salmonella']\n",
      "['MOZZARELLA', 'Cinderella']\n",
      "5\n"
     ]
    }
   ],
   "source": [
    "#7.4\n",
    "things = [\"mozzarella\", \"cinderella\", \"salmonella\"]\n",
    "#7.5\n",
    "things[1] = things[1].capitalize()\n",
    "print(things)\n",
    "#7.6\n",
    "things[0] = things[0].upper()\n",
    "print(things)\n",
    "#7.7\n",
    "things.remove(\"salmonella\")\n",
    "print(things)\n",
    "\n",
    "#9.1\n",
    "def good():\n",
    "    return [\"Harry\", \"Ron\", \"Hermione\"]\n",
    "#9.2\n",
    "def get_odds():\n",
    "    for number in range(10):\n",
    "        if number % 2 != 0: #Modulus Operator for finding if number is odd\n",
    "            yield number #Starts generating numbers\n",
    "\n",
    "#Function to get the third off number\n",
    "counter = 0\n",
    "for value in get_odds():\n",
    "    counter = counter + 1\n",
    "    if counter == 3:\n",
    "        print(value)\n",
    "        break"
   ]
  },
  {
   "cell_type": "code",
   "execution_count": null,
   "id": "6d3fcba2-2c62-4362-a5de-730000614539",
   "metadata": {},
   "outputs": [],
   "source": []
  }
 ],
 "metadata": {
  "kernelspec": {
   "display_name": "Python 3 (ipykernel)",
   "language": "python",
   "name": "python3"
  },
  "language_info": {
   "codemirror_mode": {
    "name": "ipython",
    "version": 3
   },
   "file_extension": ".py",
   "mimetype": "text/x-python",
   "name": "python",
   "nbconvert_exporter": "python",
   "pygments_lexer": "ipython3",
   "version": "3.12.7"
  }
 },
 "nbformat": 4,
 "nbformat_minor": 5
}
